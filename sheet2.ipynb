{
 "cells": [
  {
   "cell_type": "code",
   "execution_count": 2,
   "id": "8accce82-34d3-4b52-aff7-ad2430153869",
   "metadata": {},
   "outputs": [
    {
     "name": "stdin",
     "output_type": "stream",
     "text": [
      " 5\n"
     ]
    },
    {
     "name": "stdout",
     "output_type": "stream",
     "text": [
      "1\n",
      "2\n",
      "3\n",
      "4\n",
      "5\n"
     ]
    }
   ],
   "source": [
    "# A problem1\n",
    "A=int(input())\n",
    "\n",
    "for x in range (1, A + 1) :\n",
    "    print (x)\n",
    "\n"
   ]
  },
  {
   "cell_type": "code",
   "execution_count": 3,
   "id": "62ee4d1d-f831-4888-9588-3fb523b6d7b3",
   "metadata": {},
   "outputs": [
    {
     "name": "stdin",
     "output_type": "stream",
     "text": [
      " 10\n"
     ]
    },
    {
     "name": "stdout",
     "output_type": "stream",
     "text": [
      "2\n",
      "4\n",
      "6\n",
      "8\n",
      "10\n"
     ]
    }
   ],
   "source": [
    "# B problem2\n",
    "\n",
    "X=int(input())\n",
    "found_even = False\n",
    "\n",
    "for x in range (1, X + 1):\n",
    "    if (x % 2== 0):\n",
    "        print(x)\n",
    "        found_even = True\n",
    "if not found_even:\n",
    "                 print(-1)\n",
    "\n",
    "\n",
    "   "
   ]
  },
  {
   "cell_type": "code",
   "execution_count": 7,
   "id": "8b1826a3-e963-4eb1-b884-8d5698418228",
   "metadata": {},
   "outputs": [
    {
     "name": "stdin",
     "output_type": "stream",
     "text": [
      " 5\n",
      "  -5 0 -3 -4 12\n"
     ]
    },
    {
     "name": "stdout",
     "output_type": "stream",
     "text": [
      "Even: 3 \n",
      "Odd: 2 \n",
      "Positive: 1 \n",
      "Negative: 3\n"
     ]
    }
   ],
   "source": [
    "# C problem2\n",
    "\n",
    "n=int(input())\n",
    "arr=list(map(int,input().split()))\n",
    "\n",
    "even=0\n",
    "odd=0\n",
    "pos=0\n",
    "neg=0\n",
    "\n",
    "for i in arr:\n",
    "    if i%2==0:\n",
    "        even+=1\n",
    "    else:\n",
    "        odd+=1\n",
    "\n",
    "    if i>0:\n",
    "        pos+=1\n",
    "    elif i<0:\n",
    "        neg+=1\n",
    "        \n",
    "print(\"Even:\",even,\"\\nOdd:\",odd ,\"\\nPositive:\",pos ,\"\\nNegative:\",neg)\n"
   ]
  },
  {
   "cell_type": "code",
   "execution_count": 3,
   "id": "3f760eef-9e7e-457f-9519-32f1fefebce6",
   "metadata": {},
   "outputs": [
    {
     "name": "stdin",
     "output_type": "stream",
     "text": [
      " 4562\n"
     ]
    },
    {
     "name": "stdout",
     "output_type": "stream",
     "text": [
      "wrong\n"
     ]
    },
    {
     "name": "stdin",
     "output_type": "stream",
     "text": [
      " 1999\n"
     ]
    },
    {
     "name": "stdout",
     "output_type": "stream",
     "text": [
      "Correct\n"
     ]
    }
   ],
   "source": [
    "# D problem4\n",
    "\n",
    "while True:\n",
    "    n = int(input())\n",
    "    correct = 1999\n",
    "    if n == correct:\n",
    "        print(\"Correct\")\n",
    "        break\n",
    "    else:\n",
    "        print(\"Wrong\")\n"
   ]
  },
  {
   "cell_type": "code",
   "execution_count": 12,
   "id": "b7be17f8-bba3-4a0a-b4ec-7d7f104cf910",
   "metadata": {},
   "outputs": [
    {
     "name": "stdin",
     "output_type": "stream",
     "text": [
      " 4\n",
      " 5 2 3 5\n"
     ]
    },
    {
     "name": "stdout",
     "output_type": "stream",
     "text": [
      "5\n"
     ]
    }
   ],
   "source": [
    "# E problem5\n",
    "\n",
    "x=int(input())\n",
    "arr = list(map(int, input().split()))\n",
    "i=0\n",
    "while i in  arr:\n",
    "    i+=1\n",
    "print(max(arr))\n"
   ]
  },
  {
   "cell_type": "code",
   "execution_count": 15,
   "id": "6e33da1b-3182-454d-87a8-75e1ebf06834",
   "metadata": {},
   "outputs": [
    {
     "name": "stdin",
     "output_type": "stream",
     "text": [
      " 5\n"
     ]
    },
    {
     "name": "stdout",
     "output_type": "stream",
     "text": [
      "5 * 1 = 5\n",
      "5 * 2 = 10\n",
      "5 * 3 = 15\n",
      "5 * 4 = 20\n",
      "5 * 5 = 25\n",
      "5 * 6 = 30\n",
      "5 * 7 = 35\n",
      "5 * 8 = 40\n",
      "5 * 9 = 45\n",
      "5 * 10 = 50\n",
      "5 * 11 = 55\n",
      "5 * 12 = 60\n"
     ]
    }
   ],
   "source": [
    "# F problem6\n",
    "\n",
    "num= int(input())\n",
    "for i in range (1,13):\n",
    "    print(num,\"*\",i,\"=\",num*i)"
   ]
  },
  {
   "cell_type": "code",
   "execution_count": 24,
   "id": "7d0d957e-f06f-422f-a417-c2ebf572cd48",
   "metadata": {},
   "outputs": [
    {
     "name": "stdin",
     "output_type": "stream",
     "text": [
      " 2\n",
      " 5\n"
     ]
    },
    {
     "name": "stdout",
     "output_type": "stream",
     "text": [
      "120\n"
     ]
    },
    {
     "name": "stdin",
     "output_type": "stream",
     "text": [
      " 2\n"
     ]
    },
    {
     "name": "stdout",
     "output_type": "stream",
     "text": [
      "2\n"
     ]
    }
   ],
   "source": [
    "# G problem7\n",
    "\n",
    "def factorial (n):\n",
    "    if n ==0 or n==1:\n",
    "        return 1\n",
    "    else:\n",
    "        return n* factorial(n-1)\n",
    "x=int(input())\n",
    "for i in range (x):\n",
    "    X = int(input())\n",
    "    print (factorial(X))"
   ]
  },
  {
   "cell_type": "code",
   "execution_count": 37,
   "id": "64244504-f930-4038-bc42-c48c379da56a",
   "metadata": {},
   "outputs": [
    {
     "name": "stdin",
     "output_type": "stream",
     "text": [
      " 13\n"
     ]
    },
    {
     "name": "stdout",
     "output_type": "stream",
     "text": [
      "YES\n"
     ]
    }
   ],
   "source": [
    "# H problem8\n",
    "\n",
    "x=int(input())\n",
    "\n",
    "is_prime=True\n",
    "if x>1 :\n",
    "    for divisor in range (2,x):\n",
    "        if (x%divisor == 0):\n",
    "            is_prime=False \n",
    "            break\n",
    "if is_prime:\n",
    "     print(\"YES\")\n",
    "else:\n",
    "    print(\"NO\")\n",
    "\n"
   ]
  },
  {
   "cell_type": "code",
   "execution_count": 10,
   "id": "79af926e-8840-4572-a4ca-9366661258b3",
   "metadata": {},
   "outputs": [
    {
     "name": "stdin",
     "output_type": "stream",
     "text": [
      " 123\n"
     ]
    },
    {
     "name": "stdout",
     "output_type": "stream",
     "text": [
      "321 \n",
      "NO\n"
     ]
    }
   ],
   "source": [
    "# I problem9\n",
    "\n",
    "x=input()\n",
    "if x==x[ :: -1]:\n",
    "    print(x,\"\\nYES\")\n",
    "else:\n",
    "    rev=x[::-1].lstrip('0')\n",
    "    print(rev,\"\\nNO\")\n",
    "\n"
   ]
  },
  {
   "cell_type": "code",
   "execution_count": 62,
   "id": "aa5bc170-06de-4655-9467-79d5343b924b",
   "metadata": {},
   "outputs": [
    {
     "name": "stdin",
     "output_type": "stream",
     "text": [
      " 10\n"
     ]
    },
    {
     "name": "stdout",
     "output_type": "stream",
     "text": [
      "2 3 5 7 "
     ]
    }
   ],
   "source": [
    "# J problem10\n",
    "\n",
    "x=int(input())\n",
    "for i in range (2,x+1):\n",
    "     flag = 0\n",
    "     for j in range (2,i):\n",
    "         if(i%j ==0):\n",
    "             flag = 1\n",
    "             break\n",
    "     \n",
    "     if (flag == 0):\n",
    "         print(i,end=\" \")\n",
    "         \n",
    "\n",
    "     \n"
   ]
  },
  {
   "cell_type": "code",
   "execution_count": 26,
   "id": "69d09caf-308b-4ba2-b28b-ac5192c18320",
   "metadata": {},
   "outputs": [
    {
     "name": "stdin",
     "output_type": "stream",
     "text": [
      " 6\n"
     ]
    },
    {
     "name": "stdout",
     "output_type": "stream",
     "text": [
      "1\n",
      "2\n",
      "3\n",
      "6\n"
     ]
    }
   ],
   "source": [
    "# K problem11\n",
    "\n",
    "x=int(input())\n",
    "divisor = False\n",
    "\n",
    "for i in range (1 , x + 1) :\n",
    "        if (x%i == 0):\n",
    "           print(i)\n",
    "           divisor = True\n"
   ]
  },
  {
   "cell_type": "code",
   "execution_count": 95,
   "id": "971dc076-1732-40a3-be47-bdb4884e8961",
   "metadata": {},
   "outputs": [
    {
     "name": "stdin",
     "output_type": "stream",
     "text": [
      " 15 5\n"
     ]
    },
    {
     "name": "stdout",
     "output_type": "stream",
     "text": [
      "5\n"
     ]
    }
   ],
   "source": [
    "# L problem12\n",
    "\n",
    "import math\n",
    "\n",
    "input_line=input()\n",
    "x,y=map(int, input_line.split())\n",
    "       \n",
    "print(math.gcd(x,y))"
   ]
  },
  {
   "cell_type": "code",
   "execution_count": 34,
   "id": "a38736b9-ea92-401b-8e47-257fb4443bb6",
   "metadata": {},
   "outputs": [
    {
     "name": "stdin",
     "output_type": "stream",
     "text": [
      " 4 20\n"
     ]
    },
    {
     "name": "stdout",
     "output_type": "stream",
     "text": [
      "4 7\n"
     ]
    }
   ],
   "source": [
    "# M problem13\n",
    "\n",
    "input_line = input()\n",
    "x, y = map(int, input_line.split())\n",
    " \n",
    "results = []\n",
    " \n",
    "while x <= y:\n",
    "    if x == 4 or x == 7:\n",
    "        results.append(x)\n",
    "    x += 1\n",
    " \n",
    "if results:\n",
    "    print(' '.join(map(str, results)))\n",
    "else:\n",
    "    print('-1')\n"
   ]
  },
  {
   "cell_type": "code",
   "execution_count": 153,
   "id": "b1c3335b-85b7-411a-bc96-8ab806e91075",
   "metadata": {},
   "outputs": [
    {
     "name": "stdin",
     "output_type": "stream",
     "text": [
      " *\n",
      " 2\n",
      " 5 2\n"
     ]
    },
    {
     "name": "stdout",
     "output_type": "stream",
     "text": [
      "* * * * * \n",
      "* * \n"
     ]
    }
   ],
   "source": [
    "# N problem14\n",
    "\n",
    "s = input()  \n",
    "n = int(input())  \n",
    "arr = list(map(int, input().split()))  #\n",
    "\n",
    "for i in arr:\n",
    "    for _ in range(i):\n",
    "        print(s,end=\" \")\n",
    "    print()\n",
    "///////////////////////////////////\n",
    "s = input()\n",
    "n = int(input())\n",
    "\n",
    "arr = list(map(int, input().split()))\n",
    "\n",
    "\n",
    "for num in arr:\n",
    "    print(s * num)\n",
    "\n"
   ]
  },
  {
   "cell_type": "code",
   "execution_count": 163,
   "id": "558921aa-abdf-4220-8952-78f970178917",
   "metadata": {},
   "outputs": [
    {
     "name": "stdin",
     "output_type": "stream",
     "text": [
      " 4\n"
     ]
    },
    {
     "name": "stdout",
     "output_type": "stream",
     "text": [
      "*\n",
      "**\n",
      "***\n",
      "****\n"
     ]
    }
   ],
   "source": [
    "# O problem15\n",
    "\n",
    "n =int( input())\n",
    "for i in range(1,n+1):\n",
    "    s='*'\n",
    "    print (s * i)\n",
    "\n"
   ]
  },
  {
   "cell_type": "code",
   "execution_count": 172,
   "id": "56fac2da-e80d-4c4e-9391-cd2f9d037f41",
   "metadata": {},
   "outputs": [
    {
     "name": "stdin",
     "output_type": "stream",
     "text": [
      " 4\n"
     ]
    },
    {
     "name": "stdout",
     "output_type": "stream",
     "text": [
      "****\n",
      "***\n",
      "**\n",
      "*\n"
     ]
    }
   ],
   "source": [
    "# P problem16\n",
    "\n",
    "n = int(input())\n",
    "for i in range(n,0,-1):\n",
    "    print('*' * i)\n"
   ]
  },
  {
   "cell_type": "code",
   "execution_count": 1,
   "id": "0646192e-996e-492b-81c0-2f1adff865f8",
   "metadata": {},
   "outputs": [
    {
     "name": "stdin",
     "output_type": "stream",
     "text": [
      " 2\n",
      " 123\n"
     ]
    },
    {
     "name": "stdout",
     "output_type": "stream",
     "text": [
      "3 2 1\n"
     ]
    },
    {
     "name": "stdin",
     "output_type": "stream",
     "text": [
      " 452\n"
     ]
    },
    {
     "name": "stdout",
     "output_type": "stream",
     "text": [
      "2 5 4\n"
     ]
    }
   ],
   "source": [
    "# Q problem 17\n",
    "\n",
    "n = int(input())\n",
    "\n",
    "for _ in range(n):\n",
    "    number = input().strip()  \n",
    "    reversed_digits = \" \".join(reversed(number)) \n",
    "    print(reversed_digits)\n"
   ]
  },
  {
   "cell_type": "code",
   "execution_count": 29,
   "id": "080ceb0d-7378-4300-8d45-a538cc046ad4",
   "metadata": {},
   "outputs": [
    {
     "name": "stdin",
     "output_type": "stream",
     "text": [
      " 5 2\n"
     ]
    },
    {
     "name": "stdout",
     "output_type": "stream",
     "text": [
      "2 3 4 5 sum =14\n"
     ]
    },
    {
     "name": "stdin",
     "output_type": "stream",
     "text": [
      " 6 2\n"
     ]
    },
    {
     "name": "stdout",
     "output_type": "stream",
     "text": [
      "2 3 4 5 6 sum =20\n"
     ]
    },
    {
     "name": "stdin",
     "output_type": "stream",
     "text": [
      " 10 2\n"
     ]
    },
    {
     "name": "stdout",
     "output_type": "stream",
     "text": [
      "2 3 4 5 6 7 8 9 10 sum =54\n"
     ]
    },
    {
     "name": "stdin",
     "output_type": "stream",
     "text": [
      " -1 5\n"
     ]
    }
   ],
   "source": [
    "# R problem 18\n",
    "\n",
    "while True:\n",
    "    try:\n",
    "        input_line = input()\n",
    "        if input_line.strip() == \"\":  \n",
    "            break\n",
    "        n, m = map(int, input_line.split())\n",
    "        \n",
    "        if n <= 0 or m <= 0:\n",
    "            sys.exit()\n",
    "        \n",
    "        if n > m:\n",
    "            n, m = m, n\n",
    "        \n",
    "        total_sum = 0\n",
    "        result = []\n",
    "\n",
    "        for i in range(n, m + 1):\n",
    "            total_sum += i\n",
    "            result.append(str(i))\n",
    "\n",
    "        print(\" \".join(result) + \" sum =\" + str(total_sum))\n",
    "    except:\n",
    "        break\n"
   ]
  },
  {
   "cell_type": "code",
   "execution_count": 22,
   "id": "6dde6767-8aa3-4df7-a43c-3f1364cfc535",
   "metadata": {},
   "outputs": [
    {
     "name": "stdin",
     "output_type": "stream",
     "text": [
      " 2\n",
      " 5 6\n"
     ]
    },
    {
     "name": "stdout",
     "output_type": "stream",
     "text": [
      "0\n"
     ]
    },
    {
     "name": "stdin",
     "output_type": "stream",
     "text": [
      " 11 2\n"
     ]
    },
    {
     "name": "stdout",
     "output_type": "stream",
     "text": [
      "24\n"
     ]
    }
   ],
   "source": [
    "# S problem 19\n",
    "n=int(input())\n",
    "for _ in range(n):\n",
    "    input_line = input() \n",
    "    x, y = map(int, input_line.split())\n",
    "    if x>y :\n",
    "       x,y = y,x\n",
    "    sum_odd=sum(num for num in range (x+1,y) if num % 2!=0)   \n",
    "    print (sum_odd)"
   ]
  },
  {
   "cell_type": "code",
   "execution_count": 32,
   "id": "e69f6a01-b742-4da8-89b8-94e52d822596",
   "metadata": {},
   "outputs": [
    {
     "name": "stdin",
     "output_type": "stream",
     "text": [
      " 4\n"
     ]
    },
    {
     "name": "stdout",
     "output_type": "stream",
     "text": [
      "   *\n",
      "  ***\n",
      " *****\n",
      "*******\n"
     ]
    }
   ],
   "source": [
    "# T problem 20\n",
    "\n",
    "n=int (input())\n",
    "for i in range(n):\n",
    "    star= '*' * (2 * i + 1)\n",
    "    space= ' ' * (n - i - 1)\n",
    "    print(space + star)\n"
   ]
  },
  {
   "cell_type": "code",
   "execution_count": 42,
   "id": "af60135b-5b3b-452d-a7c4-68c6ff740047",
   "metadata": {},
   "outputs": [
    {
     "name": "stdin",
     "output_type": "stream",
     "text": [
      " 4\n"
     ]
    },
    {
     "name": "stdout",
     "output_type": "stream",
     "text": [
      "   *\n",
      "  ***\n",
      " *****\n",
      "*******\n",
      "*******\n",
      " *****\n",
      "  ***\n",
      "   *\n"
     ]
    }
   ],
   "source": [
    "# W problem 23\n",
    "n= int(input())\n",
    "for i in range(2 * n):\n",
    "    if i < n:\n",
    "        stars = '*' * (2 * i + 1)\n",
    "        spaces = ' ' * (n - i - 1)\n",
    "    else:\n",
    "       \n",
    "        stars = '*' * (2 * (2 * n - i - 1) + 1)\n",
    "        spaces = ' ' * (i - n)\n",
    "    \n",
    "    print(spaces + stars)"
   ]
  },
  {
   "cell_type": "code",
   "execution_count": 71,
   "id": "aa51d974-3b0e-481a-92ee-150195f318a3",
   "metadata": {},
   "outputs": [
    {
     "name": "stdin",
     "output_type": "stream",
     "text": [
      " 10 1 2\n"
     ]
    },
    {
     "name": "stdout",
     "output_type": "stream",
     "text": [
      "13\n"
     ]
    }
   ],
   "source": [
    "# U problem21\n",
    "\n",
    "input_line=input()\n",
    "A,B,C = map(int, input_line.split())\n",
    "sum = 0\n",
    "for i in range (A+1):\n",
    "    x=i\n",
    "    s=0\n",
    "    while x > 0 :\n",
    "        z = x % 10\n",
    "        s += z\n",
    "        x //= 10\n",
    "\n",
    "    if B <= s <= C:\n",
    "            sum+=i\n",
    "print(sum)\n",
    "\n"
   ]
  },
  {
   "cell_type": "code",
   "execution_count": 93,
   "id": "d4991542-2ac9-4c55-8d8f-a29028e9caf9",
   "metadata": {},
   "outputs": [
    {
     "name": "stdin",
     "output_type": "stream",
     "text": [
      " 7\n"
     ]
    },
    {
     "name": "stdout",
     "output_type": "stream",
     "text": [
      "1 2 3 PUM\n",
      "5 6 7 PUM\n",
      "9 10 11 PUM\n",
      "13 14 15 PUM\n",
      "17 18 19 PUM\n",
      "21 22 23 PUM\n",
      "25 26 27 PUM\n"
     ]
    }
   ],
   "source": [
    "# V problem22\n",
    "x=int(input())\n",
    "\n",
    "for i in range (1,x*4+1):\n",
    "    if(i % 4 == 0):\n",
    "         print(\"PUM\")\n",
    "    else:\n",
    "          print(i,end=\" \")\n",
    "\n",
    "        \n",
    "\n"
   ]
  },
  {
   "cell_type": "code",
   "execution_count": 8,
   "id": "7ef585ec-25d3-4551-985f-478f6afb2909",
   "metadata": {},
   "outputs": [
    {
     "name": "stdin",
     "output_type": "stream",
     "text": [
      " 2\n",
      " 7\n"
     ]
    },
    {
     "name": "stdout",
     "output_type": "stream",
     "text": [
      "7\n"
     ]
    },
    {
     "name": "stdin",
     "output_type": "stream",
     "text": [
      " 10\n"
     ]
    },
    {
     "name": "stdout",
     "output_type": "stream",
     "text": [
      "3\n"
     ]
    }
   ],
   "source": [
    "# X problem24\n",
    "num_inputs = int(input())\n",
    "\n",
    "for i in range(num_inputs):\n",
    "    x = int(input())\n",
    "\n",
    "    c = 0\n",
    "    sum = 0\n",
    "    while x > 0:\n",
    "        if x % 2 == 1:\n",
    "            c += 1\n",
    "        x //= 2\n",
    "\n",
    "    power = 1\n",
    "    for _ in range(c):\n",
    "        sum += power\n",
    "        power <<= 1\n",
    "\n",
    "    print(sum)"
   ]
  },
  {
   "cell_type": "code",
   "execution_count": 12,
   "id": "d2e89691-40d5-479e-85dd-d8dbfc792be3",
   "metadata": {},
   "outputs": [
    {
     "name": "stdin",
     "output_type": "stream",
     "text": [
      " 7\n"
     ]
    },
    {
     "name": "stdout",
     "output_type": "stream",
     "text": [
      "1 2 3 5 8 "
     ]
    }
   ],
   "source": [
    "# Y problem25\n",
    "N=int(input())\n",
    "f = 0\n",
    "s = 1\n",
    "for i in range (2,N):\n",
    "    x=f+s\n",
    "    print(x,end=\" \")\n",
    "    f=s\n",
    "    s=x\n"
   ]
  },
  {
   "cell_type": "code",
   "execution_count": 24,
   "id": "9bc14d40-317a-4864-81fe-a415c0039ef6",
   "metadata": {},
   "outputs": [
    {
     "name": "stdin",
     "output_type": "stream",
     "text": [
      " 9 4\n"
     ]
    },
    {
     "name": "stdout",
     "output_type": "stream",
     "text": [
      "15\n"
     ]
    }
   ],
   "source": [
    "# Z problem26\n",
    "k, s = map(int, input().split())\n",
    "\n",
    "c=0\n",
    "for x in range (k+1):\n",
    "    for y in range (k+1):\n",
    "        z=s-x-y\n",
    "        if(z>=0 and z<=k):\n",
    "           c+=1\n",
    "print(c)\n"
   ]
  },
  {
   "cell_type": "code",
   "execution_count": 37,
   "id": "83d914bd-ee7d-45eb-b350-119214e3f677",
   "metadata": {},
   "outputs": [
    {
     "name": "stdin",
     "output_type": "stream",
     "text": [
      " 4\n"
     ]
    },
    {
     "name": "stdout",
     "output_type": "stream",
     "text": [
      "   *\n",
      "  ***\n",
      " *****\n",
      "*******\n",
      " *****\n",
      "  ***\n",
      "   *\n"
     ]
    }
   ],
   "source": [
    "\n",
    "\n",
    "\n"
   ]
  },
  {
   "cell_type": "code",
   "execution_count": 40,
   "id": "15c7ebad-e1cc-4d51-85e7-d2c6e19bd6d7",
   "metadata": {},
   "outputs": [
    {
     "name": "stdout",
     "output_type": "stream",
     "text": [
      "   *\n",
      "  ***\n",
      " *****\n",
      "*******\n",
      "*******\n",
      " *****\n",
      "  ***\n",
      "   *\n"
     ]
    }
   ],
   "source": [
    "\n",
    "for i in range(2 * n):\n",
    "    if i < n:\n",
    "        stars = '*' * (2 * i + 1)\n",
    "        spaces = ' ' * (n - i - 1)\n",
    "    else:\n",
    "       \n",
    "        stars = '*' * (2 * (2 * n - i - 1) + 1)\n",
    "        spaces = ' ' * (i - n)\n",
    "    \n",
    "    print(spaces + stars)\n",
    "\n"
   ]
  },
  {
   "cell_type": "code",
   "execution_count": null,
   "id": "4b155f82-deed-4443-adfd-1a4b1fdb4d1d",
   "metadata": {},
   "outputs": [],
   "source": []
  }
 ],
 "metadata": {
  "kernelspec": {
   "display_name": "Python 3 (ipykernel)",
   "language": "python",
   "name": "python3"
  },
  "language_info": {
   "codemirror_mode": {
    "name": "ipython",
    "version": 3
   },
   "file_extension": ".py",
   "mimetype": "text/x-python",
   "name": "python",
   "nbconvert_exporter": "python",
   "pygments_lexer": "ipython3",
   "version": "3.11.5"
  }
 },
 "nbformat": 4,
 "nbformat_minor": 5
}
